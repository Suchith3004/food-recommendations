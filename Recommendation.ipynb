{
 "cells": [
  {
   "cell_type": "markdown",
   "metadata": {},
   "source": [
    "Source: https://medium.com/@lope.ai/recommendation-systems-from-scratch-in-python-pytholabs-6946491e76c2"
   ]
  },
  {
   "cell_type": "code",
   "execution_count": 1,
   "metadata": {},
   "outputs": [],
   "source": [
    "import pandas as pd\n",
    "import numpy as np"
   ]
  },
  {
   "cell_type": "code",
   "execution_count": 2,
   "metadata": {},
   "outputs": [
    {
     "name": "stderr",
     "output_type": "stream",
     "text": [
      "C:\\Users\\Suchi\\anaconda3\\lib\\site-packages\\IPython\\core\\interactiveshell.py:3071: DtypeWarning: Columns (6) have mixed types.Specify dtype option on import or set low_memory=False.\n",
      "  has_raised = await self.run_ast_nodes(code_ast.body, cell_name,\n"
     ]
    }
   ],
   "source": [
    "gourmet_foods = pd.read_csv('./gourmet_foods.csv')"
   ]
  },
  {
   "cell_type": "code",
   "execution_count": 3,
   "metadata": {},
   "outputs": [
    {
     "data": {
      "text/html": [
       "<div>\n",
       "<style scoped>\n",
       "    .dataframe tbody tr th:only-of-type {\n",
       "        vertical-align: middle;\n",
       "    }\n",
       "\n",
       "    .dataframe tbody tr th {\n",
       "        vertical-align: top;\n",
       "    }\n",
       "\n",
       "    .dataframe thead th {\n",
       "        text-align: right;\n",
       "    }\n",
       "</style>\n",
       "<table border=\"1\" class=\"dataframe\">\n",
       "  <thead>\n",
       "    <tr style=\"text-align: right;\">\n",
       "      <th></th>\n",
       "      <th>overall</th>\n",
       "      <th>reviewerID</th>\n",
       "      <th>asin</th>\n",
       "      <th>reviewerName</th>\n",
       "      <th>reviewText</th>\n",
       "      <th>summary</th>\n",
       "      <th>vote</th>\n",
       "    </tr>\n",
       "  </thead>\n",
       "  <tbody>\n",
       "    <tr>\n",
       "      <th>0</th>\n",
       "      <td>5.0</td>\n",
       "      <td>A1QVBUH9E1V6I8</td>\n",
       "      <td>4639725183</td>\n",
       "      <td>Jamshed Mathur</td>\n",
       "      <td>No adverse comment.</td>\n",
       "      <td>Five Stars</td>\n",
       "      <td>NaN</td>\n",
       "    </tr>\n",
       "    <tr>\n",
       "      <th>1</th>\n",
       "      <td>5.0</td>\n",
       "      <td>A3GEOILWLK86XM</td>\n",
       "      <td>4639725183</td>\n",
       "      <td>itsjustme</td>\n",
       "      <td>Gift for college student.</td>\n",
       "      <td>Great product.</td>\n",
       "      <td>NaN</td>\n",
       "    </tr>\n",
       "    <tr>\n",
       "      <th>2</th>\n",
       "      <td>5.0</td>\n",
       "      <td>A32RD6L701BIGP</td>\n",
       "      <td>4639725183</td>\n",
       "      <td>Krystal Clifton</td>\n",
       "      <td>If you like strong tea, this is for you. It mi...</td>\n",
       "      <td>Strong</td>\n",
       "      <td>NaN</td>\n",
       "    </tr>\n",
       "    <tr>\n",
       "      <th>3</th>\n",
       "      <td>5.0</td>\n",
       "      <td>A2UY1O1FBGKIE6</td>\n",
       "      <td>4639725183</td>\n",
       "      <td>U. Kane</td>\n",
       "      <td>Love the tea. The flavor is way better than th...</td>\n",
       "      <td>Great tea</td>\n",
       "      <td>NaN</td>\n",
       "    </tr>\n",
       "    <tr>\n",
       "      <th>4</th>\n",
       "      <td>5.0</td>\n",
       "      <td>A3QHVBQYDV7Z6U</td>\n",
       "      <td>4639725183</td>\n",
       "      <td>The Nana</td>\n",
       "      <td>I have searched everywhere until I browsed Ama...</td>\n",
       "      <td>This is the tea I remembered!</td>\n",
       "      <td>NaN</td>\n",
       "    </tr>\n",
       "  </tbody>\n",
       "</table>\n",
       "</div>"
      ],
      "text/plain": [
       "   overall      reviewerID        asin     reviewerName  \\\n",
       "0      5.0  A1QVBUH9E1V6I8  4639725183   Jamshed Mathur   \n",
       "1      5.0  A3GEOILWLK86XM  4639725183        itsjustme   \n",
       "2      5.0  A32RD6L701BIGP  4639725183  Krystal Clifton   \n",
       "3      5.0  A2UY1O1FBGKIE6  4639725183          U. Kane   \n",
       "4      5.0  A3QHVBQYDV7Z6U  4639725183         The Nana   \n",
       "\n",
       "                                          reviewText  \\\n",
       "0                                No adverse comment.   \n",
       "1                          Gift for college student.   \n",
       "2  If you like strong tea, this is for you. It mi...   \n",
       "3  Love the tea. The flavor is way better than th...   \n",
       "4  I have searched everywhere until I browsed Ama...   \n",
       "\n",
       "                         summary vote  \n",
       "0                     Five Stars  NaN  \n",
       "1                 Great product.  NaN  \n",
       "2                         Strong  NaN  \n",
       "3                      Great tea  NaN  \n",
       "4  This is the tea I remembered!  NaN  "
      ]
     },
     "execution_count": 3,
     "metadata": {},
     "output_type": "execute_result"
    }
   ],
   "source": [
    "gourmet_foods.head(5)"
   ]
  },
  {
   "cell_type": "code",
   "execution_count": 4,
   "metadata": {},
   "outputs": [],
   "source": [
    "gourmet_foods = gourmet_foods.rename(columns={\"asin\": \"productID\"})"
   ]
  },
  {
   "cell_type": "code",
   "execution_count": 5,
   "metadata": {},
   "outputs": [],
   "source": [
    "gf = pd.DataFrame({\"reviewerID\": gourmet_foods['reviewerID'], \"productID\": gourmet_foods['productID'],\n",
    "                  \"rating\": gourmet_foods['overall']})"
   ]
  },
  {
   "cell_type": "code",
   "execution_count": 6,
   "metadata": {},
   "outputs": [
    {
     "data": {
      "text/html": [
       "<div>\n",
       "<style scoped>\n",
       "    .dataframe tbody tr th:only-of-type {\n",
       "        vertical-align: middle;\n",
       "    }\n",
       "\n",
       "    .dataframe tbody tr th {\n",
       "        vertical-align: top;\n",
       "    }\n",
       "\n",
       "    .dataframe thead th {\n",
       "        text-align: right;\n",
       "    }\n",
       "</style>\n",
       "<table border=\"1\" class=\"dataframe\">\n",
       "  <thead>\n",
       "    <tr style=\"text-align: right;\">\n",
       "      <th></th>\n",
       "      <th>reviewerID</th>\n",
       "      <th>productID</th>\n",
       "      <th>rating</th>\n",
       "    </tr>\n",
       "  </thead>\n",
       "  <tbody>\n",
       "    <tr>\n",
       "      <th>0</th>\n",
       "      <td>A1QVBUH9E1V6I8</td>\n",
       "      <td>4639725183</td>\n",
       "      <td>5.0</td>\n",
       "    </tr>\n",
       "    <tr>\n",
       "      <th>1</th>\n",
       "      <td>A3GEOILWLK86XM</td>\n",
       "      <td>4639725183</td>\n",
       "      <td>5.0</td>\n",
       "    </tr>\n",
       "    <tr>\n",
       "      <th>2</th>\n",
       "      <td>A32RD6L701BIGP</td>\n",
       "      <td>4639725183</td>\n",
       "      <td>5.0</td>\n",
       "    </tr>\n",
       "    <tr>\n",
       "      <th>3</th>\n",
       "      <td>A2UY1O1FBGKIE6</td>\n",
       "      <td>4639725183</td>\n",
       "      <td>5.0</td>\n",
       "    </tr>\n",
       "    <tr>\n",
       "      <th>4</th>\n",
       "      <td>A3QHVBQYDV7Z6U</td>\n",
       "      <td>4639725183</td>\n",
       "      <td>5.0</td>\n",
       "    </tr>\n",
       "  </tbody>\n",
       "</table>\n",
       "</div>"
      ],
      "text/plain": [
       "       reviewerID   productID  rating\n",
       "0  A1QVBUH9E1V6I8  4639725183     5.0\n",
       "1  A3GEOILWLK86XM  4639725183     5.0\n",
       "2  A32RD6L701BIGP  4639725183     5.0\n",
       "3  A2UY1O1FBGKIE6  4639725183     5.0\n",
       "4  A3QHVBQYDV7Z6U  4639725183     5.0"
      ]
     },
     "execution_count": 6,
     "metadata": {},
     "output_type": "execute_result"
    }
   ],
   "source": [
    "gf.head(5)"
   ]
  },
  {
   "cell_type": "code",
   "execution_count": 7,
   "metadata": {},
   "outputs": [
    {
     "data": {
      "text/html": [
       "<div>\n",
       "<style scoped>\n",
       "    .dataframe tbody tr th:only-of-type {\n",
       "        vertical-align: middle;\n",
       "    }\n",
       "\n",
       "    .dataframe tbody tr th {\n",
       "        vertical-align: top;\n",
       "    }\n",
       "\n",
       "    .dataframe thead th {\n",
       "        text-align: right;\n",
       "    }\n",
       "</style>\n",
       "<table border=\"1\" class=\"dataframe\">\n",
       "  <thead>\n",
       "    <tr style=\"text-align: right;\">\n",
       "      <th></th>\n",
       "      <th>reviewerID</th>\n",
       "      <th>productID</th>\n",
       "      <th>rating</th>\n",
       "    </tr>\n",
       "  </thead>\n",
       "  <tbody>\n",
       "    <tr>\n",
       "      <th>0</th>\n",
       "      <td>A1QVBUH9E1V6I8</td>\n",
       "      <td>4639725183</td>\n",
       "      <td>5.0</td>\n",
       "    </tr>\n",
       "    <tr>\n",
       "      <th>1</th>\n",
       "      <td>A3GEOILWLK86XM</td>\n",
       "      <td>4639725183</td>\n",
       "      <td>5.0</td>\n",
       "    </tr>\n",
       "    <tr>\n",
       "      <th>2</th>\n",
       "      <td>A32RD6L701BIGP</td>\n",
       "      <td>4639725183</td>\n",
       "      <td>5.0</td>\n",
       "    </tr>\n",
       "    <tr>\n",
       "      <th>3</th>\n",
       "      <td>A2UY1O1FBGKIE6</td>\n",
       "      <td>4639725183</td>\n",
       "      <td>5.0</td>\n",
       "    </tr>\n",
       "    <tr>\n",
       "      <th>4</th>\n",
       "      <td>A3QHVBQYDV7Z6U</td>\n",
       "      <td>4639725183</td>\n",
       "      <td>5.0</td>\n",
       "    </tr>\n",
       "    <tr>\n",
       "      <th>...</th>\n",
       "      <td>...</td>\n",
       "      <td>...</td>\n",
       "      <td>...</td>\n",
       "    </tr>\n",
       "    <tr>\n",
       "      <th>993842</th>\n",
       "      <td>A223YRQH2Z5T1D</td>\n",
       "      <td>B01HJF6FRA</td>\n",
       "      <td>5.0</td>\n",
       "    </tr>\n",
       "    <tr>\n",
       "      <th>993843</th>\n",
       "      <td>A38GDA4TB9EILT</td>\n",
       "      <td>B01HJF6FRA</td>\n",
       "      <td>5.0</td>\n",
       "    </tr>\n",
       "    <tr>\n",
       "      <th>993844</th>\n",
       "      <td>A2025PN7HDC5BO</td>\n",
       "      <td>B01HJF6FRA</td>\n",
       "      <td>5.0</td>\n",
       "    </tr>\n",
       "    <tr>\n",
       "      <th>993845</th>\n",
       "      <td>A1NY7XWC7EPQOA</td>\n",
       "      <td>B01HJF6FRA</td>\n",
       "      <td>5.0</td>\n",
       "    </tr>\n",
       "    <tr>\n",
       "      <th>993846</th>\n",
       "      <td>A1P0X9E6F99J4T</td>\n",
       "      <td>B01HJF6FRA</td>\n",
       "      <td>3.0</td>\n",
       "    </tr>\n",
       "  </tbody>\n",
       "</table>\n",
       "<p>993847 rows × 3 columns</p>\n",
       "</div>"
      ],
      "text/plain": [
       "            reviewerID   productID  rating\n",
       "0       A1QVBUH9E1V6I8  4639725183     5.0\n",
       "1       A3GEOILWLK86XM  4639725183     5.0\n",
       "2       A32RD6L701BIGP  4639725183     5.0\n",
       "3       A2UY1O1FBGKIE6  4639725183     5.0\n",
       "4       A3QHVBQYDV7Z6U  4639725183     5.0\n",
       "...                ...         ...     ...\n",
       "993842  A223YRQH2Z5T1D  B01HJF6FRA     5.0\n",
       "993843  A38GDA4TB9EILT  B01HJF6FRA     5.0\n",
       "993844  A2025PN7HDC5BO  B01HJF6FRA     5.0\n",
       "993845  A1NY7XWC7EPQOA  B01HJF6FRA     5.0\n",
       "993846  A1P0X9E6F99J4T  B01HJF6FRA     3.0\n",
       "\n",
       "[993847 rows x 3 columns]"
      ]
     },
     "execution_count": 7,
     "metadata": {},
     "output_type": "execute_result"
    }
   ],
   "source": [
    "gf"
   ]
  },
  {
   "cell_type": "code",
   "execution_count": 8,
   "metadata": {},
   "outputs": [],
   "source": [
    "to_csv = gf.to_csv('./gourmet_food_ratings.csv', index=False)"
   ]
  },
  {
   "cell_type": "code",
   "execution_count": 9,
   "metadata": {},
   "outputs": [],
   "source": [
    "gf_sampled = gf.sample(20000)"
   ]
  },
  {
   "cell_type": "code",
   "execution_count": 10,
   "metadata": {},
   "outputs": [],
   "source": [
    "gf_num_users = gf_sampled['reviewerID'].unique().shape[0]\n",
    "gf_num_products = gf_sampled['productID'].unique().shape[0]"
   ]
  },
  {
   "cell_type": "code",
   "execution_count": 11,
   "metadata": {},
   "outputs": [
    {
     "data": {
      "text/html": [
       "<div>\n",
       "<style scoped>\n",
       "    .dataframe tbody tr th:only-of-type {\n",
       "        vertical-align: middle;\n",
       "    }\n",
       "\n",
       "    .dataframe tbody tr th {\n",
       "        vertical-align: top;\n",
       "    }\n",
       "\n",
       "    .dataframe thead th {\n",
       "        text-align: right;\n",
       "    }\n",
       "</style>\n",
       "<table border=\"1\" class=\"dataframe\">\n",
       "  <thead>\n",
       "    <tr style=\"text-align: right;\">\n",
       "      <th></th>\n",
       "      <th>reviewerID</th>\n",
       "      <th>productID</th>\n",
       "      <th>rating</th>\n",
       "    </tr>\n",
       "  </thead>\n",
       "  <tbody>\n",
       "    <tr>\n",
       "      <th>146576</th>\n",
       "      <td>A2S696CI415O20</td>\n",
       "      <td>B000UYFKRY</td>\n",
       "      <td>5.0</td>\n",
       "    </tr>\n",
       "    <tr>\n",
       "      <th>134749</th>\n",
       "      <td>AO97AQNALDTQC</td>\n",
       "      <td>B000QSS23S</td>\n",
       "      <td>5.0</td>\n",
       "    </tr>\n",
       "    <tr>\n",
       "      <th>484482</th>\n",
       "      <td>A2WIMBIRP0SKQQ</td>\n",
       "      <td>B0068L0WX0</td>\n",
       "      <td>5.0</td>\n",
       "    </tr>\n",
       "    <tr>\n",
       "      <th>1708</th>\n",
       "      <td>A1NSOZH0EYGA2W</td>\n",
       "      <td>B0000D9169</td>\n",
       "      <td>5.0</td>\n",
       "    </tr>\n",
       "    <tr>\n",
       "      <th>609165</th>\n",
       "      <td>A3JAKR6IPAKQTD</td>\n",
       "      <td>B00CXXK4EO</td>\n",
       "      <td>5.0</td>\n",
       "    </tr>\n",
       "    <tr>\n",
       "      <th>...</th>\n",
       "      <td>...</td>\n",
       "      <td>...</td>\n",
       "      <td>...</td>\n",
       "    </tr>\n",
       "    <tr>\n",
       "      <th>3550</th>\n",
       "      <td>A2JAWYBEW9MWT6</td>\n",
       "      <td>B0000EYP2U</td>\n",
       "      <td>3.0</td>\n",
       "    </tr>\n",
       "    <tr>\n",
       "      <th>933707</th>\n",
       "      <td>A8AMLLYIF68IS</td>\n",
       "      <td>B005K4Q4LK</td>\n",
       "      <td>5.0</td>\n",
       "    </tr>\n",
       "    <tr>\n",
       "      <th>248763</th>\n",
       "      <td>A241OH2YXYHU3C</td>\n",
       "      <td>B001A3EDAO</td>\n",
       "      <td>2.0</td>\n",
       "    </tr>\n",
       "    <tr>\n",
       "      <th>579515</th>\n",
       "      <td>A3KOSRR1P7WIH2</td>\n",
       "      <td>B00BQWU5OW</td>\n",
       "      <td>5.0</td>\n",
       "    </tr>\n",
       "    <tr>\n",
       "      <th>364464</th>\n",
       "      <td>A2M7QU3TLQTUIC</td>\n",
       "      <td>B003J4M8HW</td>\n",
       "      <td>3.0</td>\n",
       "    </tr>\n",
       "  </tbody>\n",
       "</table>\n",
       "<p>20000 rows × 3 columns</p>\n",
       "</div>"
      ],
      "text/plain": [
       "            reviewerID   productID  rating\n",
       "146576  A2S696CI415O20  B000UYFKRY     5.0\n",
       "134749   AO97AQNALDTQC  B000QSS23S     5.0\n",
       "484482  A2WIMBIRP0SKQQ  B0068L0WX0     5.0\n",
       "1708    A1NSOZH0EYGA2W  B0000D9169     5.0\n",
       "609165  A3JAKR6IPAKQTD  B00CXXK4EO     5.0\n",
       "...                ...         ...     ...\n",
       "3550    A2JAWYBEW9MWT6  B0000EYP2U     3.0\n",
       "933707   A8AMLLYIF68IS  B005K4Q4LK     5.0\n",
       "248763  A241OH2YXYHU3C  B001A3EDAO     2.0\n",
       "579515  A3KOSRR1P7WIH2  B00BQWU5OW     5.0\n",
       "364464  A2M7QU3TLQTUIC  B003J4M8HW     3.0\n",
       "\n",
       "[20000 rows x 3 columns]"
      ]
     },
     "execution_count": 11,
     "metadata": {},
     "output_type": "execute_result"
    }
   ],
   "source": [
    "gf_sampled"
   ]
  },
  {
   "cell_type": "code",
   "execution_count": 12,
   "metadata": {},
   "outputs": [],
   "source": [
    "gf_user_ids = dict()\n",
    "gf_users = list(gf_sampled['reviewerID'].unique())\n",
    "for i,user in enumerate(gf_users):\n",
    "    gf_user_ids[user] = i"
   ]
  },
  {
   "cell_type": "code",
   "execution_count": 13,
   "metadata": {},
   "outputs": [],
   "source": [
    "gf_product_ids = dict()\n",
    "gf_products = list(gf_sampled['productID'].unique())\n",
    "for j,product in enumerate(gf_products):\n",
    "    gf_product_ids[product] = j"
   ]
  },
  {
   "cell_type": "code",
   "execution_count": 14,
   "metadata": {},
   "outputs": [],
   "source": [
    "reviewer_ids = list()\n",
    "for reviewer in gf_sampled['reviewerID']:\n",
    "    reviewer_ids.append(gf_user_ids[reviewer])"
   ]
  },
  {
   "cell_type": "code",
   "execution_count": 15,
   "metadata": {},
   "outputs": [],
   "source": [
    "product_ids = list()\n",
    "for product in gf_sampled['productID']:\n",
    "    product_ids.append(gf_product_ids[product])"
   ]
  },
  {
   "cell_type": "code",
   "execution_count": 16,
   "metadata": {},
   "outputs": [],
   "source": [
    "gf_df = pd.DataFrame({'reviewerID': reviewer_ids, 'productID': product_ids, 'rating': gf_sampled['rating']})"
   ]
  },
  {
   "cell_type": "code",
   "execution_count": 17,
   "metadata": {},
   "outputs": [],
   "source": [
    "data_matrix = np.zeros((gf_num_users, gf_num_products))\n",
    "for line in gf_df.itertuples():\n",
    "    data_matrix[line[1]-1, line[2]-1] = line[3]"
   ]
  },
  {
   "cell_type": "code",
   "execution_count": 18,
   "metadata": {},
   "outputs": [
    {
     "data": {
      "text/plain": [
       "10663"
      ]
     },
     "execution_count": 18,
     "metadata": {},
     "output_type": "execute_result"
    }
   ],
   "source": [
    "gf_num_products"
   ]
  },
  {
   "cell_type": "code",
   "execution_count": 19,
   "metadata": {},
   "outputs": [],
   "source": [
    "from sklearn.metrics.pairwise import pairwise_distances"
   ]
  },
  {
   "cell_type": "code",
   "execution_count": 20,
   "metadata": {},
   "outputs": [],
   "source": [
    "user_similarity = pairwise_distances(data_matrix, metric='cosine')"
   ]
  },
  {
   "cell_type": "code",
   "execution_count": 21,
   "metadata": {
    "scrolled": true
   },
   "outputs": [],
   "source": [
    "item_similarity = pairwise_distances(data_matrix.T, metric='cosine')"
   ]
  },
  {
   "cell_type": "code",
   "execution_count": 22,
   "metadata": {},
   "outputs": [],
   "source": [
    "def predict(ratings, similarity, type='reviewer'):\n",
    "    \n",
    "    if type == 'reviewer':\n",
    "        mean_reviewer_rating = ratings.mean(axis=1).reshape(-1,1)\n",
    "        #We use np.newaxis so that mean_user_rating has same format as ratings\n",
    "        \n",
    "        ratings_diff = (ratings - mean_reviewer_rating)\n",
    "        pred = mean_reviewer_rating + similarity.dot(ratings_diff) / np.array([np.abs(similarity).sum(axis=1)]).T\n",
    "    \n",
    "    elif type == 'product':\n",
    "        pred = ratings.dot(similarity) / np.array([np.abs(similarity).sum(axis=1)])\n",
    "    \n",
    "    return pred"
   ]
  },
  {
   "cell_type": "code",
   "execution_count": 23,
   "metadata": {},
   "outputs": [],
   "source": [
    "user_prediction = predict(data_matrix, user_similarity, type='reviewer') #do it for each chunk\n",
    "item_prediction = predict(data_matrix, item_similarity, type='product') #do it for each chunk"
   ]
  },
  {
   "cell_type": "code",
   "execution_count": 24,
   "metadata": {},
   "outputs": [],
   "source": [
    "def label_sentiment(row):\n",
    "    cutoff = .05\n",
    "    if row.compound < -1 * cutoff:\n",
    "        return \"neg\"\n",
    "    elif row.compound > cutoff:\n",
    "        return \"pos\"\n",
    "    else:\n",
    "        return \"neu\""
   ]
  },
  {
   "cell_type": "code",
   "execution_count": 25,
   "metadata": {},
   "outputs": [],
   "source": [
    "def sentiment_analysis(productID):\n",
    "    review_text = gourmet_foods[gourmet_foods['productID'] == productID]['reviewText']\n",
    "    sia = SentimentIntensityAnalyzer()\n",
    "    sws = set(stopwords.words('english'))\n",
    "    processed_text = list()\n",
    "\n",
    "    for review in review_text:\n",
    "        review = review.translate(review.maketrans('', '', string.punctuation))\n",
    "        review = review.lower()\n",
    "        no_sw_sentences = list()\n",
    "        sentences = nltk.sent_tokenize(review)\n",
    "        for sentence in sentences:\n",
    "            no_sw_words = list()\n",
    "            words = nltk.word_tokenize(sentence)\n",
    "            for word in words:\n",
    "                if word not in sws:\n",
    "                    no_sw_words += [word]\n",
    "            no_sw_sentences += [' '.join(no_sw_words)]\n",
    "        if(len(no_sw_sentences) == 0):\n",
    "            no_sw_sentences = ''\n",
    "        else:\n",
    "            temp2 = no_sw_sentences[0]\n",
    "            no_sw_sentences = str(temp2)\n",
    "        processed_text.append(no_sw_sentences)\n",
    "    \n",
    "    scores = []\n",
    "    for sentence in processed_text:\n",
    "        data = sid.polarity_scores(sentence)\n",
    "        data['text'] = sentence\n",
    "        scores += [data]\n",
    "    \n",
    "    df_scores = pd.DataFrame(scores)\n",
    "    df_scores['labels'] = df_scores.apply(label_sentiment, axis=1)\n",
    "    \n",
    "    df_scores\n",
    "    "
   ]
  },
  {
   "cell_type": "code",
   "execution_count": null,
   "metadata": {},
   "outputs": [],
   "source": []
  }
 ],
 "metadata": {
  "kernelspec": {
   "display_name": "Python 3 (ipykernel)",
   "language": "python",
   "name": "python3"
  },
  "language_info": {
   "codemirror_mode": {
    "name": "ipython",
    "version": 3
   },
   "file_extension": ".py",
   "mimetype": "text/x-python",
   "name": "python",
   "nbconvert_exporter": "python",
   "pygments_lexer": "ipython3",
   "version": "3.10.4"
  }
 },
 "nbformat": 4,
 "nbformat_minor": 4
}
